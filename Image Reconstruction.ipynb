{
 "cells": [
  {
   "cell_type": "markdown",
   "id": "8d5370ee",
   "metadata": {},
   "source": [
    "2) A. Lakukan loading dan scaling data serta tampilkan contoh data yang \n",
    "digunakan. Kemudian pisahkan dataset menjadi 80% training set, 10% validation set dan 10% \n",
    "test set. "
   ]
  },
  {
   "cell_type": "code",
   "execution_count": 1,
   "id": "a5b7f3f1",
   "metadata": {},
   "outputs": [],
   "source": [
    "import numpy as np\n",
    "import matplotlib.pyplot as plt\n",
    "import gzip\n",
    "from sklearn.model_selection import train_test_split\n",
    "import tensorflow as tf\n",
    "from tensorflow.keras import layers, models\n",
    "from skimage.metrics import structural_similarity as ssim\n",
    "from sklearn.preprocessing import MinMaxScaler\n",
    "\n",
    "#Load data\n",
    "\n",
    "def read_images(filename):\n",
    "    with gzip.open(filename, 'rb') as f:\n",
    "        magic, num, rows, cols = np.frombuffer(f.read(16), dtype=np.dtype('>i4'))\n",
    "        images = np.frombuffer(f.read(), dtype=np.uint8).reshape(num, rows, cols)\n",
    "    return images\n",
    "\n",
    "def read_labels(filename):\n",
    "    with gzip.open(filename, 'rb') as f:\n",
    "        magic, num = np.frombuffer(f.read(8), dtype=np.dtype('>i4'))\n",
    "        labels = np.frombuffer(f.read(), dtype=np.uint8)\n",
    "    return labels\n",
    "\n",
    "train_images = read_images('D://train-images-idx3-ubyte.gz')\n",
    "train_labels = read_labels('D://train-labels-idx1-ubyte.gz')\n",
    "test_images = read_images('D://t10k-images-idx3-ubyte.gz')\n",
    "test_labels = read_labels('D://t10k-labels-idx1-ubyte.gz')"
   ]
  },
  {
   "cell_type": "code",
   "execution_count": 2,
   "id": "c0944c71",
   "metadata": {},
   "outputs": [],
   "source": [
    "#Filter untuk class 2 dan 3\n",
    "train_filter = np.where((train_labels == 2) | (train_labels == 3))\n",
    "test_filter = np.where((test_labels == 2) | (test_labels == 3))\n",
    "\n",
    "train_images, train_labels = train_images[train_filter], train_labels[train_filter]\n",
    "test_images, test_labels = test_images[test_filter], test_labels[test_filter]\n",
    "\n",
    "train_images = train_images.astype('float32') / 255.\n",
    "test_images = test_images.astype('float32') / 255."
   ]
  },
  {
   "cell_type": "code",
   "execution_count": 3,
   "id": "5e7e454f",
   "metadata": {},
   "outputs": [],
   "source": [
    "#Combine train dan test set\n",
    "\n",
    "all_images = np.concatenate((train_images, test_images))\n",
    "all_labels = np.concatenate((train_labels, test_labels))\n",
    "\n",
    "all_images_reshaped = all_images.reshape((all_images.shape[0], -1))\n",
    "\n",
    "#Scaling data\n",
    "\n",
    "scaler = MinMaxScaler()\n",
    "\n",
    "scaled_images = scaler.fit_transform(all_images_reshaped)\n",
    "scaled_images = scaled_images.reshape(all_images.shape)\n"
   ]
  },
  {
   "cell_type": "code",
   "execution_count": 4,
   "id": "d2b6f45a",
   "metadata": {},
   "outputs": [],
   "source": [
    "#Splitting data(80% training set, 10% validation set dan 10% test set)\n",
    "\n",
    "train_images, temp_images, train_labels, temp_labels = train_test_split(all_images, all_labels, test_size=0.2, random_state=42)\n",
    "val_images, test_images, val_labels, test_labels = train_test_split(temp_images, temp_labels, test_size=0.5, random_state=42)\n",
    "\n",
    "train_images_reshaped = np.reshape(train_images, (train_images.shape[0], 28, 28, 1))\n",
    "val_images_reshaped = np.reshape(val_images, (val_images.shape[0], 28, 28, 1))\n",
    "test_images_reshaped = np.reshape(test_images, (test_images.shape[0], 28, 28, 1))"
   ]
  },
  {
   "cell_type": "code",
   "execution_count": 5,
   "id": "d1ca60d2",
   "metadata": {},
   "outputs": [
    {
     "data": {
      "image/png": "[encoded data removed]",
      "text/plain": [
       "<Figure size 2000x400 with 10 Axes>"
      ]
     },
     "metadata": {},
     "output_type": "display_data"
    }
   ],
   "source": [
    "#Example images\n",
    "\n",
    "n = 10\n",
    "plt.figure(figsize=(20, 4))\n",
    "for i in range(n):\n",
    "    ax = plt.subplot(1, n, i + 1)\n",
    "    plt.imshow(train_images[i], cmap='gray')\n",
    "    ax.get_xaxis().set_visible(False)\n",
    "    ax.get_yaxis().set_visible(False)\n",
    "plt.show()"
   ]
  },
  {
   "cell_type": "markdown",
   "id": "65c84c99",
   "metadata": {},
   "source": [
    "2)B. Buatlah arsitektur baseline untuk Dimension Reduction dari dimensi 784 \n",
    "(28x28) menjadi dimensi 128, sesuai dengan gambar arsitektur Autoencoder berikut ini. \n",
    "Lakukan evaluasi kualitas citra hasil decoder menggunakan Structural Similarity Index (SSIM) \n",
    "pada data test."
   ]
  },
  {
   "cell_type": "code",
   "execution_count": 6,
   "id": "b2566b06",
   "metadata": {},
   "outputs": [],
   "source": [
    "from tensorflow.keras import layers, models\n",
    "\n",
    "#Encoder\n",
    "encoder_input = layers.Input(shape=(28, 28, 1))\n",
    "x = layers.Conv2D(32, (3, 3), activation='relu', padding='same')(encoder_input)  \n",
    "x = layers.MaxPooling2D((2, 2), padding='same')(x)  \n",
    "x = layers.Flatten()(x)  \n",
    "encoder_output = layers.Dense(128, activation='relu')(x)  \n",
    "\n",
    "encoder = models.Model(encoder_input, encoder_output, name=\"encoder\")"
   ]
  },
  {
   "cell_type": "code",
   "execution_count": 7,
   "id": "c7256048",
   "metadata": {},
   "outputs": [],
   "source": [
    "#Decoder\n",
    "decoder_input = layers.Input(shape=(128,))\n",
    "x = layers.Dense(6272, activation='relu')(decoder_input)  \n",
    "x = layers.Reshape((14, 14, 32))(x)  \n",
    "x = layers.UpSampling2D((2, 2))(x)  \n",
    "x = layers.Conv2D(32, (3, 3), activation='relu', padding='same')(x)  \n",
    "decoder_output = layers.Conv2D(1, (3, 3), activation='sigmoid', padding='same')(x)  \n",
    "\n",
    "decoder = models.Model(decoder_input, decoder_output, name=\"decoder\")\n"
   ]
  },
  {
   "cell_type": "code",
   "execution_count": 8,
   "id": "46579e5e",
   "metadata": {},
   "outputs": [
    {
     "data": {
      "text/html": [
       "<pre style=\"white-space:pre;overflow-x:auto;line-height:normal;font-family:Menlo,'DejaVu Sans Mono',consolas,'Courier New',monospace\"><span style=\"font-weight: bold\">Model: \"autoencoder\"</span>\n",
       "</pre>\n"
      ],
      "text/plain": [
       "\u001b[1mModel: \"autoencoder\"\u001b[0m\n"
      ]
     },
     "metadata": {},
     "output_type": "display_data"
    },
    {
     "data": {
      "text/html": [
       "<pre style=\"white-space:pre;overflow-x:auto;line-height:normal;font-family:Menlo,'DejaVu Sans Mono',consolas,'Courier New',monospace\">┏━━━━━━━━━━━━━━━━━━━━━━━━━━━━━━━━━━━━━━┳━━━━━━━━━━━━━━━━━━━━━━━━━━━━━┳━━━━━━━━━━━━━━━━━┓\n",
       "┃<span style=\"font-weight: bold\"> Layer (type)                         </span>┃<span style=\"font-weight: bold\"> Output Shape                </span>┃<span style=\"font-weight: bold\">         Param # </span>┃\n",
       "┡━━━━━━━━━━━━━━━━━━━━━━━━━━━━━━━━━━━━━━╇━━━━━━━━━━━━━━━━━━━━━━━━━━━━━╇━━━━━━━━━━━━━━━━━┩\n",
       "│ input_layer (<span style=\"color: #0087ff; text-decoration-color: #0087ff\">InputLayer</span>)             │ (<span style=\"color: #00d7ff; text-decoration-color: #00d7ff\">None</span>, <span style=\"color: #00af00; text-decoration-color: #00af00\">28</span>, <span style=\"color: #00af00; text-decoration-color: #00af00\">28</span>, <span style=\"color: #00af00; text-decoration-color: #00af00\">1</span>)           │               <span style=\"color: #00af00; text-decoration-color: #00af00\">0</span> │\n",
       "├──────────────────────────────────────┼─────────────────────────────┼─────────────────┤\n",
       "│ encoder (<span style=\"color: #0087ff; text-decoration-color: #0087ff\">Functional</span>)                 │ (<span style=\"color: #00d7ff; text-decoration-color: #00d7ff\">None</span>, <span style=\"color: #00af00; text-decoration-color: #00af00\">128</span>)                 │         <span style=\"color: #00af00; text-decoration-color: #00af00\">803,264</span> │\n",
       "├──────────────────────────────────────┼─────────────────────────────┼─────────────────┤\n",
       "│ decoder (<span style=\"color: #0087ff; text-decoration-color: #0087ff\">Functional</span>)                 │ (<span style=\"color: #00d7ff; text-decoration-color: #00d7ff\">None</span>, <span style=\"color: #00af00; text-decoration-color: #00af00\">28</span>, <span style=\"color: #00af00; text-decoration-color: #00af00\">28</span>, <span style=\"color: #00af00; text-decoration-color: #00af00\">1</span>)           │         <span style=\"color: #00af00; text-decoration-color: #00af00\">818,625</span> │\n",
       "└──────────────────────────────────────┴─────────────────────────────┴─────────────────┘\n",
       "</pre>\n"
      ],
      "text/plain": [
       "┏━━━━━━━━━━━━━━━━━━━━━━━━━━━━━━━━━━━━━━┳━━━━━━━━━━━━━━━━━━━━━━━━━━━━━┳━━━━━━━━━━━━━━━━━┓\n",
       "┃\u001b[1m \u001b[0m\u001b[1mLayer (type)                        \u001b[0m\u001b[1m \u001b[0m┃\u001b[1m \u001b[0m\u001b[1mOutput Shape               \u001b[0m\u001b[1m \u001b[0m┃\u001b[1m \u001b[0m\u001b[1m        Param #\u001b[0m\u001b[1m \u001b[0m┃\n",
       "┡━━━━━━━━━━━━━━━━━━━━━━━━━━━━━━━━━━━━━━╇━━━━━━━━━━━━━━━━━━━━━━━━━━━━━╇━━━━━━━━━━━━━━━━━┩\n",
       "│ input_layer (\u001b[38;5;33mInputLayer\u001b[0m)             │ (\u001b[38;5;45mNone\u001b[0m, \u001b[38;5;34m28\u001b[0m, \u001b[38;5;34m28\u001b[0m, \u001b[38;5;34m1\u001b[0m)           │               \u001b[38;5;34m0\u001b[0m │\n",
       "├──────────────────────────────────────┼─────────────────────────────┼─────────────────┤\n",
       "│ encoder (\u001b[38;5;33mFunctional\u001b[0m)                 │ (\u001b[38;5;45mNone\u001b[0m, \u001b[38;5;34m128\u001b[0m)                 │         \u001b[38;5;34m803,264\u001b[0m │\n",
       "├──────────────────────────────────────┼─────────────────────────────┼─────────────────┤\n",
       "│ decoder (\u001b[38;5;33mFunctional\u001b[0m)                 │ (\u001b[38;5;45mNone\u001b[0m, \u001b[38;5;34m28\u001b[0m, \u001b[38;5;34m28\u001b[0m, \u001b[38;5;34m1\u001b[0m)           │         \u001b[38;5;34m818,625\u001b[0m │\n",
       "└──────────────────────────────────────┴─────────────────────────────┴─────────────────┘\n"
      ]
     },
     "metadata": {},
     "output_type": "display_data"
    },
    {
     "data": {
      "text/html": [
       "<pre style=\"white-space:pre;overflow-x:auto;line-height:normal;font-family:Menlo,'DejaVu Sans Mono',consolas,'Courier New',monospace\"><span style=\"font-weight: bold\"> Total params: </span><span style=\"color: #00af00; text-decoration-color: #00af00\">1,621,889</span> (6.19 MB)\n",
       "</pre>\n"
      ],
      "text/plain": [
       "\u001b[1m Total params: \u001b[0m\u001b[38;5;34m1,621,889\u001b[0m (6.19 MB)\n"
      ]
     },
     "metadata": {},
     "output_type": "display_data"
    },
    {
     "data": {
      "text/html": [
       "<pre style=\"white-space:pre;overflow-x:auto;line-height:normal;font-family:Menlo,'DejaVu Sans Mono',consolas,'Courier New',monospace\"><span style=\"font-weight: bold\"> Trainable params: </span><span style=\"color: #00af00; text-decoration-color: #00af00\">1,621,889</span> (6.19 MB)\n",
       "</pre>\n"
      ],
      "text/plain": [
       "\u001b[1m Trainable params: \u001b[0m\u001b[38;5;34m1,621,889\u001b[0m (6.19 MB)\n"
      ]
     },
     "metadata": {},
     "output_type": "display_data"
    },
    {
     "data": {
      "text/html": [
       "<pre style=\"white-space:pre;overflow-x:auto;line-height:normal;font-family:Menlo,'DejaVu Sans Mono',consolas,'Courier New',monospace\"><span style=\"font-weight: bold\"> Non-trainable params: </span><span style=\"color: #00af00; text-decoration-color: #00af00\">0</span> (0.00 B)\n",
       "</pre>\n"
      ],
      "text/plain": [
       "\u001b[1m Non-trainable params: \u001b[0m\u001b[38;5;34m0\u001b[0m (0.00 B)\n"
      ]
     },
     "metadata": {},
     "output_type": "display_data"
    }
   ],
   "source": [
    "autoencoder_input = encoder_input\n",
    "encoded_img = encoder(autoencoder_input)\n",
    "decoded_img = decoder(encoded_img)\n",
    "\n",
    "autoencoder = models.Model(autoencoder_input, decoded_img, name=\"autoencoder\")\n",
    "autoencoder.summary()"
   ]
  },
  {
   "cell_type": "code",
   "execution_count": 9,
   "id": "a3acf584",
   "metadata": {},
   "outputs": [
    {
     "name": "stdout",
     "output_type": "stream",
     "text": [
      "Epoch 1/10\n",
      "\u001b[1m44/44\u001b[0m \u001b[32m━━━━━━━━━━━━━━━━━━━━\u001b[0m\u001b[37m\u001b[0m \u001b[1m5s\u001b[0m 90ms/step - loss: 0.5687 - val_loss: 0.3621\n",
      "Epoch 2/10\n",
      "\u001b[1m44/44\u001b[0m \u001b[32m━━━━━━━━━━━━━━━━━━━━\u001b[0m\u001b[37m\u001b[0m \u001b[1m8s\u001b[0m 175ms/step - loss: 0.3513 - val_loss: 0.3266\n",
      "Epoch 3/10\n",
      "\u001b[1m44/44\u001b[0m \u001b[32m━━━━━━━━━━━━━━━━━━━━\u001b[0m\u001b[37m\u001b[0m \u001b[1m7s\u001b[0m 170ms/step - loss: 0.3271 - val_loss: 0.3150\n",
      "Epoch 4/10\n",
      "\u001b[1m44/44\u001b[0m \u001b[32m━━━━━━━━━━━━━━━━━━━━\u001b[0m\u001b[37m\u001b[0m \u001b[1m7s\u001b[0m 163ms/step - loss: 0.3175 - val_loss: 0.3066\n",
      "Epoch 5/10\n",
      "\u001b[1m44/44\u001b[0m \u001b[32m━━━━━━━━━━━━━━━━━━━━\u001b[0m\u001b[37m\u001b[0m \u001b[1m7s\u001b[0m 160ms/step - loss: 0.3079 - val_loss: 0.3021\n",
      "Epoch 6/10\n",
      "\u001b[1m44/44\u001b[0m \u001b[32m━━━━━━━━━━━━━━━━━━━━\u001b[0m\u001b[37m\u001b[0m \u001b[1m7s\u001b[0m 158ms/step - loss: 0.3056 - val_loss: 0.2978\n",
      "Epoch 7/10\n",
      "\u001b[1m44/44\u001b[0m \u001b[32m━━━━━━━━━━━━━━━━━━━━\u001b[0m\u001b[37m\u001b[0m \u001b[1m7s\u001b[0m 157ms/step - loss: 0.3012 - val_loss: 0.2953\n",
      "Epoch 8/10\n",
      "\u001b[1m44/44\u001b[0m \u001b[32m━━━━━━━━━━━━━━━━━━━━\u001b[0m\u001b[37m\u001b[0m \u001b[1m7s\u001b[0m 157ms/step - loss: 0.2996 - val_loss: 0.2932\n",
      "Epoch 9/10\n",
      "\u001b[1m44/44\u001b[0m \u001b[32m━━━━━━━━━━━━━━━━━━━━\u001b[0m\u001b[37m\u001b[0m \u001b[1m7s\u001b[0m 161ms/step - loss: 0.2968 - val_loss: 0.2911\n",
      "Epoch 10/10\n",
      "\u001b[1m44/44\u001b[0m \u001b[32m━━━━━━━━━━━━━━━━━━━━\u001b[0m\u001b[37m\u001b[0m \u001b[1m7s\u001b[0m 170ms/step - loss: 0.2945 - val_loss: 0.2896\n",
      "\u001b[1m44/44\u001b[0m \u001b[32m━━━━━━━━━━━━━━━━━━━━\u001b[0m\u001b[37m\u001b[0m \u001b[1m1s\u001b[0m 21ms/step\n"
     ]
    }
   ],
   "source": [
    "autoencoder.compile(optimizer='adam', loss='binary_crossentropy')\n",
    "\n",
    "history = autoencoder.fit(\n",
    "    train_images_reshaped, train_images_reshaped,\n",
    "    epochs=10,\n",
    "    batch_size=256,\n",
    "    shuffle=True,\n",
    "    validation_data=(val_images_reshaped, val_images_reshaped)\n",
    ")\n",
    "\n",
    "decoded_imgs = autoencoder.predict(test_images_reshaped)"
   ]
  },
  {
   "cell_type": "code",
   "execution_count": 10,
   "id": "aa15b3b2",
   "metadata": {},
   "outputs": [
    {
     "name": "stdout",
     "output_type": "stream",
     "text": [
      "Mean SSIM: 0.7353132658815866\n"
     ]
    }
   ],
   "source": [
    "#SSIM\n",
    "\n",
    "ssim_scores = []\n",
    "for i in range(100):\n",
    "    ssim_score = ssim(test_images_reshaped[i].squeeze(), decoded_imgs[i].squeeze(), data_range=decoded_imgs[i].squeeze().max() - decoded_imgs[i].squeeze().min())\n",
    "    ssim_scores.append(ssim_score)\n",
    "    \n",
    "mean_ssim = np.mean(ssim_scores)\n",
    "print(\"Mean SSIM:\", mean_ssim)"
   ]
  },
  {
   "cell_type": "markdown",
   "id": "61cae23c",
   "metadata": {},
   "source": [
    "Nilai Mean SSIM sebesar 0.74 menunjukkan bahwa rata-rata image yang dihasilkan oleh model tersebut cukup mirip dengan real image. SSIM yang mendekati 1 menandakan sudah cukup baik walaupun membutuhkan sedikit perbaikan. Hal ini berarti arsitektur model sudah cukup baik tetapi belum maksimal dan masih membutuhkan beberapa perbaikan, mungkin hyperparameter tuning ataupun penambahan layer. "
   ]
  },
  {
   "cell_type": "code",
   "execution_count": 11,
   "id": "b3c4ce02",
   "metadata": {},
   "outputs": [
    {
     "data": {
      "image/png": "[encoded data removed]",
      "text/plain": [
       "<Figure size 2000x400 with 20 Axes>"
      ]
     },
     "metadata": {},
     "output_type": "display_data"
    }
   ],
   "source": [
    "#Visualisasi hasil\n",
    "\n",
    "n = 10\n",
    "plt.figure(figsize=(20, 4))\n",
    "for i in range(n):\n",
    "    #Original image\n",
    "    ax = plt.subplot(2, n, i + 1)\n",
    "    plt.imshow(test_images_reshaped[i].squeeze(), cmap='gray')\n",
    "    ax.get_xaxis().set_visible(False)\n",
    "    ax.get_yaxis().set_visible(False)\n",
    "\n",
    "    #Reconstructed Image\n",
    "    ax = plt.subplot(2, n, i + 1 + n)\n",
    "    plt.imshow(decoded_imgs[i].squeeze(), cmap='gray')\n",
    "    ax.get_xaxis().set_visible(False)\n",
    "    ax.get_yaxis().set_visible(False)\n",
    "plt.show()"
   ]
  },
  {
   "cell_type": "markdown",
   "id": "62497ecc",
   "metadata": {},
   "source": [
    "2) C.Setelah mengetahui hasil dari nomor (2b), modifikasi arsitektur \n",
    "Autoencoder di atas agar mendapatkan representasi Dimension Reduction yang optimal \n",
    "dengan membandingkan hasil Structural Similarity Index (SSIM) nya. Dan selanjutnya lakukan \n",
    "proses tuning hyperparameter agar unjuk kerjanya meningkat. Berikan alasan mengapa \n",
    "modifikasi arsitektur dan metode tuning hyperparameter kalian lebih baik. \n",
    "\n",
    "ANSWER\n",
    "\n",
    "Dapat disimpulkan bahwa modified model yang dibuat lebih baik dari baseline model. Hal ini dapat dilihat dari loss dan val loss yang sedikit lebih kecil serta nilai SSIM yang lebih besar. Modifikasi yang dilakukan adalah menambahkan layer, dropout, learning rate sebesar 0.0020 dan juga dimension reduction. Saya sudah mencoba menggunakan bentuk arsitektur yang lain, seperti penambahan dan pengurangan layer serta mencoba learning rate yang beragam, akan tetapi model inilah yang memberikan hasil paling baik di antara lainnya. "
   ]
  },
  {
   "cell_type": "code",
   "execution_count": 12,
   "id": "856de5a4",
   "metadata": {},
   "outputs": [],
   "source": [
    "#Modified encoder\n",
    "\n",
    "encoder_input = layers.Input(shape=(28, 28, 1))\n",
    "x = layers.Conv2D(32, (3, 3), activation='relu', padding='same')(encoder_input)  \n",
    "x = layers.MaxPooling2D((2, 2), padding='same')(x)  \n",
    "x = layers.Dropout(0.33)(x)  r\n",
    "x = layers.Conv2D(64, (3, 3), activation='relu', padding='same')(x)  \n",
    "x = layers.MaxPooling2D((2, 2), padding='same')(x)  \n",
    "x = layers.Dropout(0.33)(x) \n",
    "x = layers.Flatten()(x) \n",
    "#dimension reduction\n",
    "encoder_output = layers.Dense(64, activation='relu')(x)  \n",
    "\n",
    "encoder = models.Model(encoder_input, encoder_output, name=\"encoder\")\n"
   ]
  },
  {
   "cell_type": "code",
   "execution_count": 13,
   "id": "98d5f8c3",
   "metadata": {},
   "outputs": [],
   "source": [
    "#Modified decoder\n",
    "\n",
    "decoder_input = layers.Input(shape=(64,))\n",
    "x = layers.Dense(7 * 7 * 64, activation='relu')(decoder_input)  \n",
    "x = layers.Reshape((7, 7, 64))(x)  \n",
    "x = layers.UpSampling2D((2, 2))(x) \n",
    "x = layers.Conv2D(64, (3, 3), activation='relu', padding='same')(x)  \n",
    "x = layers.UpSampling2D((2, 2))(x)  \n",
    "x = layers.Conv2D(32, (3, 3), activation='relu', padding='same')(x)  \n",
    "decoder_output = layers.Conv2D(1, (3, 3), activation='sigmoid', padding='same')(x)  \n",
    "\n",
    "decoder = models.Model(decoder_input, decoder_output, name=\"decoder\")\n"
   ]
  },
  {
   "cell_type": "code",
   "execution_count": 14,
   "id": "a72bb818",
   "metadata": {},
   "outputs": [
    {
     "data": {
      "text/html": [
       "<pre style=\"white-space:pre;overflow-x:auto;line-height:normal;font-family:Menlo,'DejaVu Sans Mono',consolas,'Courier New',monospace\"><span style=\"font-weight: bold\">Model: \"autoencoder\"</span>\n",
       "</pre>\n"
      ],
      "text/plain": [
       "\u001b[1mModel: \"autoencoder\"\u001b[0m\n"
      ]
     },
     "metadata": {},
     "output_type": "display_data"
    },
    {
     "data": {
      "text/html": [
       "<pre style=\"white-space:pre;overflow-x:auto;line-height:normal;font-family:Menlo,'DejaVu Sans Mono',consolas,'Courier New',monospace\">┏━━━━━━━━━━━━━━━━━━━━━━━━━━━━━━━━━━━━━━┳━━━━━━━━━━━━━━━━━━━━━━━━━━━━━┳━━━━━━━━━━━━━━━━━┓\n",
       "┃<span style=\"font-weight: bold\"> Layer (type)                         </span>┃<span style=\"font-weight: bold\"> Output Shape                </span>┃<span style=\"font-weight: bold\">         Param # </span>┃\n",
       "┡━━━━━━━━━━━━━━━━━━━━━━━━━━━━━━━━━━━━━━╇━━━━━━━━━━━━━━━━━━━━━━━━━━━━━╇━━━━━━━━━━━━━━━━━┩\n",
       "│ input_layer_2 (<span style=\"color: #0087ff; text-decoration-color: #0087ff\">InputLayer</span>)           │ (<span style=\"color: #00d7ff; text-decoration-color: #00d7ff\">None</span>, <span style=\"color: #00af00; text-decoration-color: #00af00\">28</span>, <span style=\"color: #00af00; text-decoration-color: #00af00\">28</span>, <span style=\"color: #00af00; text-decoration-color: #00af00\">1</span>)           │               <span style=\"color: #00af00; text-decoration-color: #00af00\">0</span> │\n",
       "├──────────────────────────────────────┼─────────────────────────────┼─────────────────┤\n",
       "│ encoder (<span style=\"color: #0087ff; text-decoration-color: #0087ff\">Functional</span>)                 │ (<span style=\"color: #00d7ff; text-decoration-color: #00d7ff\">None</span>, <span style=\"color: #00af00; text-decoration-color: #00af00\">64</span>)                  │         <span style=\"color: #00af00; text-decoration-color: #00af00\">219,584</span> │\n",
       "├──────────────────────────────────────┼─────────────────────────────┼─────────────────┤\n",
       "│ decoder (<span style=\"color: #0087ff; text-decoration-color: #0087ff\">Functional</span>)                 │ (<span style=\"color: #00d7ff; text-decoration-color: #00d7ff\">None</span>, <span style=\"color: #00af00; text-decoration-color: #00af00\">28</span>, <span style=\"color: #00af00; text-decoration-color: #00af00\">28</span>, <span style=\"color: #00af00; text-decoration-color: #00af00\">1</span>)           │         <span style=\"color: #00af00; text-decoration-color: #00af00\">259,521</span> │\n",
       "└──────────────────────────────────────┴─────────────────────────────┴─────────────────┘\n",
       "</pre>\n"
      ],
      "text/plain": [
       "┏━━━━━━━━━━━━━━━━━━━━━━━━━━━━━━━━━━━━━━┳━━━━━━━━━━━━━━━━━━━━━━━━━━━━━┳━━━━━━━━━━━━━━━━━┓\n",
       "┃\u001b[1m \u001b[0m\u001b[1mLayer (type)                        \u001b[0m\u001b[1m \u001b[0m┃\u001b[1m \u001b[0m\u001b[1mOutput Shape               \u001b[0m\u001b[1m \u001b[0m┃\u001b[1m \u001b[0m\u001b[1m        Param #\u001b[0m\u001b[1m \u001b[0m┃\n",
       "┡━━━━━━━━━━━━━━━━━━━━━━━━━━━━━━━━━━━━━━╇━━━━━━━━━━━━━━━━━━━━━━━━━━━━━╇━━━━━━━━━━━━━━━━━┩\n",
       "│ input_layer_2 (\u001b[38;5;33mInputLayer\u001b[0m)           │ (\u001b[38;5;45mNone\u001b[0m, \u001b[38;5;34m28\u001b[0m, \u001b[38;5;34m28\u001b[0m, \u001b[38;5;34m1\u001b[0m)           │               \u001b[38;5;34m0\u001b[0m │\n",
       "├──────────────────────────────────────┼─────────────────────────────┼─────────────────┤\n",
       "│ encoder (\u001b[38;5;33mFunctional\u001b[0m)                 │ (\u001b[38;5;45mNone\u001b[0m, \u001b[38;5;34m64\u001b[0m)                  │         \u001b[38;5;34m219,584\u001b[0m │\n",
       "├──────────────────────────────────────┼─────────────────────────────┼─────────────────┤\n",
       "│ decoder (\u001b[38;5;33mFunctional\u001b[0m)                 │ (\u001b[38;5;45mNone\u001b[0m, \u001b[38;5;34m28\u001b[0m, \u001b[38;5;34m28\u001b[0m, \u001b[38;5;34m1\u001b[0m)           │         \u001b[38;5;34m259,521\u001b[0m │\n",
       "└──────────────────────────────────────┴─────────────────────────────┴─────────────────┘\n"
      ]
     },
     "metadata": {},
     "output_type": "display_data"
    },
    {
     "data": {
      "text/html": [
       "<pre style=\"white-space:pre;overflow-x:auto;line-height:normal;font-family:Menlo,'DejaVu Sans Mono',consolas,'Courier New',monospace\"><span style=\"font-weight: bold\"> Total params: </span><span style=\"color: #00af00; text-decoration-color: #00af00\">479,105</span> (1.83 MB)\n",
       "</pre>\n"
      ],
      "text/plain": [
       "\u001b[1m Total params: \u001b[0m\u001b[38;5;34m479,105\u001b[0m (1.83 MB)\n"
      ]
     },
     "metadata": {},
     "output_type": "display_data"
    },
    {
     "data": {
      "text/html": [
       "<pre style=\"white-space:pre;overflow-x:auto;line-height:normal;font-family:Menlo,'DejaVu Sans Mono',consolas,'Courier New',monospace\"><span style=\"font-weight: bold\"> Trainable params: </span><span style=\"color: #00af00; text-decoration-color: #00af00\">479,105</span> (1.83 MB)\n",
       "</pre>\n"
      ],
      "text/plain": [
       "\u001b[1m Trainable params: \u001b[0m\u001b[38;5;34m479,105\u001b[0m (1.83 MB)\n"
      ]
     },
     "metadata": {},
     "output_type": "display_data"
    },
    {
     "data": {
      "text/html": [
       "<pre style=\"white-space:pre;overflow-x:auto;line-height:normal;font-family:Menlo,'DejaVu Sans Mono',consolas,'Courier New',monospace\"><span style=\"font-weight: bold\"> Non-trainable params: </span><span style=\"color: #00af00; text-decoration-color: #00af00\">0</span> (0.00 B)\n",
       "</pre>\n"
      ],
      "text/plain": [
       "\u001b[1m Non-trainable params: \u001b[0m\u001b[38;5;34m0\u001b[0m (0.00 B)\n"
      ]
     },
     "metadata": {},
     "output_type": "display_data"
    }
   ],
   "source": [
    "#Autoencoder\n",
    "\n",
    "autoencoder_input = encoder_input\n",
    "encoded_img = encoder(autoencoder_input)\n",
    "decoded_img = decoder(encoded_img)\n",
    "\n",
    "autoencoder = models.Model(autoencoder_input, decoded_img, name=\"autoencoder\")\n",
    "\n",
    "autoencoder.summary()"
   ]
  },
  {
   "cell_type": "code",
   "execution_count": 15,
   "id": "98772829",
   "metadata": {},
   "outputs": [
    {
     "name": "stdout",
     "output_type": "stream",
     "text": [
      "Epoch 1/10\n",
      "\u001b[1m88/88\u001b[0m \u001b[32m━━━━━━━━━━━━━━━━━━━━\u001b[0m\u001b[37m\u001b[0m \u001b[1m21s\u001b[0m 214ms/step - loss: 0.4433 - val_loss: 0.3265\n",
      "Epoch 2/10\n",
      "\u001b[1m88/88\u001b[0m \u001b[32m━━━━━━━━━━━━━━━━━━━━\u001b[0m\u001b[37m\u001b[0m \u001b[1m18s\u001b[0m 207ms/step - loss: 0.3237 - val_loss: 0.3215\n",
      "Epoch 3/10\n",
      "\u001b[1m88/88\u001b[0m \u001b[32m━━━━━━━━━━━━━━━━━━━━\u001b[0m\u001b[37m\u001b[0m \u001b[1m17s\u001b[0m 193ms/step - loss: 0.3112 - val_loss: 0.3142\n",
      "Epoch 4/10\n",
      "\u001b[1m88/88\u001b[0m \u001b[32m━━━━━━━━━━━━━━━━━━━━\u001b[0m\u001b[37m\u001b[0m \u001b[1m17s\u001b[0m 193ms/step - loss: 0.3029 - val_loss: 0.3077\n",
      "Epoch 5/10\n",
      "\u001b[1m88/88\u001b[0m \u001b[32m━━━━━━━━━━━━━━━━━━━━\u001b[0m\u001b[37m\u001b[0m \u001b[1m17s\u001b[0m 196ms/step - loss: 0.2993 - val_loss: 0.3030\n",
      "Epoch 6/10\n",
      "\u001b[1m88/88\u001b[0m \u001b[32m━━━━━━━━━━━━━━━━━━━━\u001b[0m\u001b[37m\u001b[0m \u001b[1m18s\u001b[0m 205ms/step - loss: 0.2965 - val_loss: 0.3017\n",
      "Epoch 7/10\n",
      "\u001b[1m88/88\u001b[0m \u001b[32m━━━━━━━━━━━━━━━━━━━━\u001b[0m\u001b[37m\u001b[0m \u001b[1m18s\u001b[0m 200ms/step - loss: 0.2945 - val_loss: 0.2941\n",
      "Epoch 8/10\n",
      "\u001b[1m88/88\u001b[0m \u001b[32m━━━━━━━━━━━━━━━━━━━━\u001b[0m\u001b[37m\u001b[0m \u001b[1m18s\u001b[0m 203ms/step - loss: 0.2930 - val_loss: 0.2914\n",
      "Epoch 9/10\n",
      "\u001b[1m88/88\u001b[0m \u001b[32m━━━━━━━━━━━━━━━━━━━━\u001b[0m\u001b[37m\u001b[0m \u001b[1m17s\u001b[0m 191ms/step - loss: 0.2925 - val_loss: 0.2915\n",
      "Epoch 10/10\n",
      "\u001b[1m88/88\u001b[0m \u001b[32m━━━━━━━━━━━━━━━━━━━━\u001b[0m\u001b[37m\u001b[0m \u001b[1m18s\u001b[0m 204ms/step - loss: 0.2912 - val_loss: 0.2906\n",
      "\u001b[1m44/44\u001b[0m \u001b[32m━━━━━━━━━━━━━━━━━━━━\u001b[0m\u001b[37m\u001b[0m \u001b[1m2s\u001b[0m 36ms/step\n"
     ]
    }
   ],
   "source": [
    "autoencoder.compile(optimizer=tf.keras.optimizers.Adam(learning_rate=0.0020), loss='binary_crossentropy')\n",
    "\n",
    "early_stopping = tf.keras.callbacks.EarlyStopping(monitor='val_loss', patience=5, restore_best_weights=True)\n",
    "\n",
    "history = autoencoder.fit(\n",
    "    train_images_reshaped, train_images_reshaped,\n",
    "    epochs=10,\n",
    "    batch_size=128,\n",
    "    shuffle=True,\n",
    "    validation_data=(val_images_reshaped, val_images_reshaped),\n",
    "    callbacks=[early_stopping]\n",
    ")\n",
    "\n",
    "decoded_imgs = autoencoder.predict(test_images_reshaped)"
   ]
  },
  {
   "cell_type": "code",
   "execution_count": 16,
   "id": "4870bab9",
   "metadata": {},
   "outputs": [
    {
     "name": "stdout",
     "output_type": "stream",
     "text": [
      "Mean SSIM: 0.7470393001669227\n"
     ]
    }
   ],
   "source": [
    "#SSIM \n",
    "\n",
    "ssim_scores = []\n",
    "for i in range(100):\n",
    "    ssim_score = ssim(test_images_reshaped[i].squeeze(), decoded_imgs[i].squeeze(), data_range=decoded_imgs[i].squeeze().max() - decoded_imgs[i].squeeze().min())\n",
    "    ssim_scores.append(ssim_score)\n",
    "\n",
    "# Calculate the mean SSIM score\n",
    "mean_ssim = np.mean(ssim_scores)\n",
    "print(\"Mean SSIM:\", mean_ssim)"
   ]
  },
  {
   "cell_type": "markdown",
   "id": "f25bdcb7",
   "metadata": {},
   "source": [
    "Mean SSIM untuk modified model sedikit lebih tinggi dibandingkan baseline model. Walaupun perbedaanya tidak signifikan, tetapi dapat dilihat dari visualisasi hasil bahwa image yang dihasilkan tidak se blurry baseline model. Artinya, image yang dihasilkan oleh model tersebut lebih mendekati real image karena lebih mendekati 1. "
   ]
  },
  {
   "cell_type": "code",
   "execution_count": 17,
   "id": "c10d4f9a",
   "metadata": {},
   "outputs": [
    {
     "data": {
      "image/png": "[encoded data removed]",
      "text/plain": [
       "<Figure size 2000x400 with 20 Axes>"
      ]
     },
     "metadata": {},
     "output_type": "display_data"
    }
   ],
   "source": [
    "#Visualisasi hasil\n",
    "\n",
    "n = 10\n",
    "plt.figure(figsize=(20, 4))\n",
    "for i in range(n):\n",
    "    # Display original\n",
    "    ax = plt.subplot(2, n, i + 1)\n",
    "    plt.imshow(test_images_reshaped[i].squeeze(), cmap='gray')\n",
    "    ax.get_xaxis().set_visible(False)\n",
    "    ax.get_yaxis().set_visible(False)\n",
    "\n",
    "    # Display reconstruction\n",
    "    ax = plt.subplot(2, n, i + 1 + n)\n",
    "    plt.imshow(decoded_imgs[i].squeeze(), cmap='gray')\n",
    "    ax.get_xaxis().set_visible(False)\n",
    "    ax.get_yaxis().set_visible(False)\n",
    "plt.show()"
   ]
  }
 ],
 "metadata": {
  "kernelspec": {
   "display_name": "Python 3 (ipykernel)",
   "language": "python",
   "name": "python3"
  },
  "language_info": {
   "codemirror_mode": {
    "name": "ipython",
    "version": 3
   },
   "file_extension": ".py",
   "mimetype": "text/x-python",
   "name": "python",
   "nbconvert_exporter": "python",
   "pygments_lexer": "ipython3",
   "version": "3.9.13"
  }
 },
 "nbformat": 4,
 "nbformat_minor": 5
}
